{
  "metadata": {
    "kernelspec": {
      "name": "python",
      "display_name": "Python (Pyodide)",
      "language": "python"
    },
    "language_info": {
      "codemirror_mode": {
        "name": "python",
        "version": 3
      },
      "file_extension": ".py",
      "mimetype": "text/x-python",
      "name": "python",
      "nbconvert_exporter": "python",
      "pygments_lexer": "ipython3",
      "version": "3.8"
    }
  },
  "nbformat_minor": 4,
  "nbformat": 4,
  "cells": [
    {
      "cell_type": "code",
      "source": "import numpy as np\nimport pandas as pd\nfrom sklearn import svm\nfrom sklearn.model_selection import train_test_split",
      "metadata": {
        "trusted": true
      },
      "outputs": [],
      "execution_count": 1
    },
    {
      "cell_type": "code",
      "source": "df = pd.read_csv(\"cancer.csv\")\ndf.replace('?', -99999, inplace=True)\ndf.drop(['id'], axis=1, inplace=True)\n\nx = np.array(df.drop(['classes'], 1))\ny = np.array(df['classes'])",
      "metadata": {
        "trusted": true
      },
      "outputs": [
        {
          "name": "stderr",
          "text": "<ipython-input-2-8c492bec2ba9>:5: FutureWarning: In a future version of pandas all arguments of DataFrame.drop except for the argument 'labels' will be keyword-only.\n  x = np.array(df.drop(['classes'], 1))\n",
          "output_type": "stream"
        }
      ],
      "execution_count": 2
    },
    {
      "cell_type": "code",
      "source": "x_train,x_test,y_train,y_test = train_test_split(x,y,test_size=0.25,random_state=0)",
      "metadata": {
        "trusted": true
      },
      "outputs": [],
      "execution_count": 3
    },
    {
      "cell_type": "code",
      "source": "classifier = svm.SVC()\nclassifier.fit(x_train,y_train)\nconfidence = classifier.score(x_test,y_test)\nprint(\"Confidence : \",confidence)\nexample_measure = np.array([[10,5,8,9,3,4,7,2,1]])\nprediction = classifier.predict(example_measure)\nprint(\"Prediction : \",prediction)",
      "metadata": {
        "trusted": true
      },
      "outputs": [
        {
          "name": "stdout",
          "text": "Confidence :  0.64\nPrediction :  [0]\n",
          "output_type": "stream"
        }
      ],
      "execution_count": 6
    },
    {
      "cell_type": "code",
      "source": "",
      "metadata": {
        "trusted": true
      },
      "outputs": [],
      "execution_count": null
    }
  ]
}
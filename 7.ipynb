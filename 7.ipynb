{
  "metadata": {
    "kernelspec": {
      "name": "python",
      "display_name": "Python (Pyodide)",
      "language": "python"
    },
    "language_info": {
      "codemirror_mode": {
        "name": "python",
        "version": 3
      },
      "file_extension": ".py",
      "mimetype": "text/x-python",
      "name": "python",
      "nbconvert_exporter": "python",
      "pygments_lexer": "ipython3",
      "version": "3.8"
    }
  },
  "nbformat_minor": 4,
  "nbformat": 4,
  "cells": [
    {
      "cell_type": "code",
      "source": "import numpy as np\nimport pandas as pd\nfrom sklearn.model_selection import train_test_split\nfrom sklearn.preprocessing import StandardScaler\nfrom sklearn.linear_model import LogisticRegression\nfrom sklearn.metrics import confusion_matrix, accuracy_score\n\ndataset=pd.read_csv('Social_Network_Ads.csv')\nx=dataset.iloc[:,[2,3]].values\ny=dataset.iloc[:,-1].values\n\nx_train,x_test,y_train,y_test=train_test_split(x,y,test_size=0.30,random_state=1)\n\nsc=StandardScaler()\nx_train=sc.fit_transform(x_train)\nx_test=sc.transform(x_test)\n\nclassifier=LogisticRegression(random_state=0)\nclassifier.fit(x_train,y_train)\n\ny_pred=classifier.predict(x_test)\n\nac=accuracy_score(y_test,y_pred)\ncm=confusion_matrix(y_test,y_pred)\nprint(\"Accuracy: \",ac)\nprint(\"Confusion Matrix: \\n\",cm)",
      "metadata": {
        "trusted": true
      },
      "outputs": [
        {
          "name": "stdout",
          "text": "Accuracy:  0.825\nConfusion Matrix: \n [[65  7]\n [14 34]]\n",
          "output_type": "stream"
        }
      ],
      "execution_count": 3
    },
    {
      "cell_type": "code",
      "source": "",
      "metadata": {
        "trusted": true
      },
      "outputs": [],
      "execution_count": null
    },
    {
      "cell_type": "code",
      "source": "",
      "metadata": {
        "trusted": true
      },
      "outputs": [],
      "execution_count": null
    }
  ]
}